{
 "cells": [
  {
   "cell_type": "code",
   "execution_count": 1,
   "metadata": {},
   "outputs": [
    {
     "name": "stderr",
     "output_type": "stream",
     "text": [
      "\n",
      "Attaching package: ‘dplyr’\n",
      "\n",
      "The following objects are masked from ‘package:stats’:\n",
      "\n",
      "    filter, lag\n",
      "\n",
      "The following objects are masked from ‘package:base’:\n",
      "\n",
      "    intersect, setdiff, setequal, union\n",
      "\n"
     ]
    }
   ],
   "source": [
    "library(dplyr)\n",
    "library(ggplot2)\n",
    "library(tidyr)\n",
    "filepath <- '/Users/cyz/survey/active_survey/'"
   ]
  },
  {
   "cell_type": "code",
   "execution_count": 2,
   "metadata": {
    "collapsed": true
   },
   "outputs": [],
   "source": [
    "# Load 2018 responses\n",
    "load(paste0(filepath, 'data/cces/CCES2018_OUTPUT.RData'))"
   ]
  },
  {
   "cell_type": "code",
   "execution_count": 3,
   "metadata": {
    "collapsed": true
   },
   "outputs": [],
   "source": [
    "# Questions Valid responses\n",
    "# 301 1-5\n",
    "# 302 1-5\n",
    "# 308a-c 1-4\n",
    "# 320a-d 1-2\n",
    "# 321a-f 1-2\n",
    "# 322a-f 1-2\n",
    "# 325a-f 1-2\n",
    "# 326 1-2\n",
    "# 327a-e 1-2\n",
    "# 328b-f 1-2\n",
    "# 331a-c 1-2\n",
    "# 332a-e 1-2\n",
    "\n",
    "# We'll pull in extra questions not in the Common Content documentation, but these\n",
    "# will be removed by the preprocessing step that drops high-missingness questions\n",
    "\n",
    "# Selection criteria:\n",
    "# Subset of pre-election questions\n",
    "# Include questions that seek an opinion\n",
    "# Exclude respondent covariates, actions, knowledge about politics, party recall and name recognition, vote intention\n",
    "# Exclude questions on approval of respondent's local representatives\n",
    "# Exclude rating of respondent or political entities on liberal-conservative scale"
   ]
  },
  {
   "cell_type": "code",
   "execution_count": 4,
   "metadata": {
    "collapsed": true,
    "scrolled": true
   },
   "outputs": [],
   "source": [
    "x <- as.data.frame(table)"
   ]
  },
  {
   "cell_type": "code",
   "execution_count": 5,
   "metadata": {
    "collapsed": true
   },
   "outputs": [],
   "source": [
    "# Get column names for desired questions\n",
    "questions <- c(301, 302, '308a', '308b', '308c', 320, 321, 322, 325, 326, 327, 328, 331, 332)\n",
    "question_prefixes <- lapply(questions, function(q) { paste0('CC18_', q) })\n",
    "all_qnames <- colnames(x)\n",
    "colname_mask <- sapply(all_qnames, function(qname) {\n",
    "    any(sapply(question_prefixes, function(prefix) { startsWith(qname, prefix) }))\n",
    "})\n",
    "selected_qnames <- all_qnames[colname_mask]\n"
   ]
  },
  {
   "cell_type": "code",
   "execution_count": 6,
   "metadata": {
    "collapsed": true
   },
   "outputs": [],
   "source": [
    "# get responses in numeric form (they are factors)\n",
    "# x %>% select(selected_qnames)  # can't apply as.numeric to this\n",
    "responses <- cbind(sapply(selected_qnames, function(qname) { as.numeric(x[,qname]) }))"
   ]
  },
  {
   "cell_type": "code",
   "execution_count": 7,
   "metadata": {
    "collapsed": true
   },
   "outputs": [],
   "source": [
    "rownames(responses) <- x$caseid"
   ]
  },
  {
   "cell_type": "code",
   "execution_count": 8,
   "metadata": {
    "collapsed": true
   },
   "outputs": [],
   "source": [
    "write.csv(responses, paste0(filepath, 'data/cces/cces18.csv'), na=\"\")"
   ]
  },
  {
   "cell_type": "code",
   "execution_count": null,
   "metadata": {
    "collapsed": true
   },
   "outputs": [],
   "source": []
  }
 ],
 "metadata": {
  "bento_stylesheets": {
   "bento/extensions/flow/main.css": true,
   "bento/extensions/theme/main.css": true
  },
  "kernelspec": {
   "display_name": "R",
   "language": "R",
   "name": "ir"
  },
  "language_info": {
   "codemirror_mode": "r",
   "file_extension": ".r",
   "mimetype": "text/x-r-source",
   "name": "R",
   "pygments_lexer": "r",
   "version": "3.5.0"
  }
 },
 "nbformat": 4,
 "nbformat_minor": 2
}
