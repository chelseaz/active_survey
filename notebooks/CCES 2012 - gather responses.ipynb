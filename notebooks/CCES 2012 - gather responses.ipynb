{
 "cells": [
  {
   "cell_type": "code",
   "execution_count": 1,
   "metadata": {},
   "outputs": [
    {
     "name": "stderr",
     "output_type": "stream",
     "text": [
      "\n",
      "Attaching package: ‘dplyr’\n",
      "\n",
      "The following objects are masked from ‘package:stats’:\n",
      "\n",
      "    filter, lag\n",
      "\n",
      "The following objects are masked from ‘package:base’:\n",
      "\n",
      "    intersect, setdiff, setequal, union\n",
      "\n"
     ]
    }
   ],
   "source": [
    "library(dplyr)\n",
    "library(ggplot2)\n",
    "library(tidyr)\n",
    "filepath <- '/Users/cyz/survey/active_survey/'"
   ]
  },
  {
   "cell_type": "code",
   "execution_count": 2,
   "metadata": {
    "collapsed": true
   },
   "outputs": [],
   "source": [
    "# Load 2012 responses\n",
    "load(paste0(filepath, 'data/cces/CCES12_Common_VV.RData'))"
   ]
  },
  {
   "cell_type": "code",
   "execution_count": 3,
   "metadata": {
    "collapsed": true
   },
   "outputs": [],
   "source": [
    "# Questions Valid responses\n",
    "# 302 1-5\n",
    "# 304 1-5\n",
    "# 302a 1-5\n",
    "# 305-306 1-2\n",
    "# 308a-e 1-4\n",
    "# 320 1-3\n",
    "# 321 1-5\n",
    "# 322_1-6 1-2\n",
    "# 324 1-4\n",
    "# 325 1-5\n",
    "# 326 1-2\n",
    "# 327 1-4\n",
    "# 332A-J 1-2\n",
    "\n",
    "# Selection criteria:\n",
    "# Subset of pre-election questions\n",
    "# Include questions that seek an opinion\n",
    "# Exclude respondent covariates, actions, knowledge about politics, party recall and name recognition, vote intention\n",
    "# Exclude questions on approval of respondent's local representatives\n",
    "# Exclude rating of respondent or political entities on liberal-conservative scale"
   ]
  },
  {
   "cell_type": "code",
   "execution_count": 4,
   "metadata": {
    "collapsed": true
   },
   "outputs": [],
   "source": [
    "# Exclude these questions by dropping them first\n",
    "x <- x %>% select(-c(CC302b,CC325_1,CC325_2,CC325_3,CC325_4,CC326_1,CC326_2,CC326_3,CC326_4,CC326_5,CC326_6,CC326_7))"
   ]
  },
  {
   "cell_type": "code",
   "execution_count": 5,
   "metadata": {
    "collapsed": true
   },
   "outputs": [],
   "source": [
    "# Get column names for desired questions\n",
    "questions <- c(302, 304, 305, 306, '308a', '308b', '308c', 320, 321, 322, 324, 325, 326, 327, 332)\n",
    "question_prefixes <- lapply(questions, function(q) { paste0('CC', q) })\n",
    "all_qnames <- colnames(x)\n",
    "colname_mask <- sapply(all_qnames, function(qname) {\n",
    "    any(sapply(question_prefixes, function(prefix) { startsWith(qname, prefix) }))\n",
    "})\n",
    "selected_qnames <- all_qnames[colname_mask]"
   ]
  },
  {
   "cell_type": "code",
   "execution_count": 6,
   "metadata": {
    "collapsed": true
   },
   "outputs": [],
   "source": [
    "# get responses in numeric form (they are factors)\n",
    "# x %>% select(selected_qnames)  # can't apply as.numeric to this\n",
    "responses <- cbind(sapply(selected_qnames, function(qname) { as.numeric(x[,qname]) }))"
   ]
  },
  {
   "cell_type": "code",
   "execution_count": 7,
   "metadata": {
    "collapsed": true
   },
   "outputs": [],
   "source": [
    "rownames(responses) <- x$V101"
   ]
  },
  {
   "cell_type": "code",
   "execution_count": 8,
   "metadata": {
    "collapsed": true
   },
   "outputs": [],
   "source": [
    "write.csv(responses, paste0(filepath, 'data/cces/cces12.csv'), na=\"\")"
   ]
  },
  {
   "cell_type": "code",
   "execution_count": null,
   "metadata": {
    "collapsed": true
   },
   "outputs": [],
   "source": []
  }
 ],
 "metadata": {
  "bento_stylesheets": {
   "bento/extensions/flow/main.css": true,
   "bento/extensions/theme/main.css": true
  },
  "kernelspec": {
   "display_name": "R",
   "language": "R",
   "name": "ir"
  },
  "language_info": {
   "codemirror_mode": "r",
   "file_extension": ".r",
   "mimetype": "text/x-r-source",
   "name": "R",
   "pygments_lexer": "r",
   "version": "3.5.0"
  }
 },
 "nbformat": 4,
 "nbformat_minor": 2
}
