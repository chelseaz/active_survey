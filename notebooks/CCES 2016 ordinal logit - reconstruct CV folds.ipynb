{
 "cells": [
  {
   "cell_type": "code",
   "execution_count": 1,
   "metadata": {},
   "outputs": [
    {
     "name": "stdout",
     "output_type": "stream",
     "text": [
      "/Users/cyz/survey/active_survey\n"
     ]
    },
    {
     "name": "stderr",
     "output_type": "stream",
     "text": [
      "Using TensorFlow backend.\n"
     ]
    }
   ],
   "source": [
    "%matplotlib inline\n",
    "\n",
    "import os\n",
    "# assumes jupyter server launched from root dir of repo\n",
    "filepath = os.path.abspath(os.path.join(os.getcwd(), '..'))\n",
    "%cd $filepath\n",
    "\n",
    "import json\n",
    "import matplotlib.pyplot as plt\n",
    "import numpy as np\n",
    "import pandas as pd\n",
    "\n",
    "import sys\n",
    "sys.path.append(os.path.abspath(filepath))\n",
    "\n",
    "from common import *\n",
    "from cces_util import *\n",
    "from notebooks.eval_util import *"
   ]
  },
  {
   "cell_type": "code",
   "execution_count": 2,
   "metadata": {},
   "outputs": [],
   "source": [
    "# Reconstruct cross-validation folds from CCES 2016 ordinal logit simulation\n",
    "results = pd.read_csv(filepath + '/data/ec2/cces16-sim-results.csv')"
   ]
  },
  {
   "cell_type": "code",
   "execution_count": 3,
   "metadata": {},
   "outputs": [],
   "source": [
    "folds = []\n",
    "cur_fold = set()\n",
    "prev_qnum = 0\n",
    "for i in range(results.shape[0]):\n",
    "    if results.loc[i, 'selector'] != 'active':\n",
    "        break\n",
    "    \n",
    "    cur_qnum = results.loc[i, 'qnum']\n",
    "    if cur_qnum < prev_qnum:\n",
    "        # start new fold\n",
    "        folds.append(cur_fold)\n",
    "        cur_fold = set()\n",
    "    \n",
    "    cur_fold.add(results.loc[i, 'columns'])\n",
    "    prev_qnum = cur_qnum\n",
    "\n",
    "# add final fold\n",
    "folds.append(cur_fold)"
   ]
  },
  {
   "cell_type": "code",
   "execution_count": 4,
   "metadata": {
    "scrolled": true
   },
   "outputs": [
    {
     "data": {
      "text/plain": [
       "[{'CC16_302',\n",
       "  'CC16_330d',\n",
       "  'CC16_331_1',\n",
       "  'CC16_331_2',\n",
       "  'CC16_332c',\n",
       "  'CC16_351H',\n",
       "  'CC16_351I',\n",
       "  'CC16_351K'},\n",
       " {'CC16_303',\n",
       "  'CC16_320a',\n",
       "  'CC16_331_7',\n",
       "  'CC16_331_9',\n",
       "  'CC16_333b',\n",
       "  'CC16_333d',\n",
       "  'CC16_334a',\n",
       "  'CC16_335'},\n",
       " {'CC16_304',\n",
       "  'CC16_320c',\n",
       "  'CC16_330b',\n",
       "  'CC16_332d',\n",
       "  'CC16_332e',\n",
       "  'CC16_334c',\n",
       "  'CC16_351B',\n",
       "  'CC16_351F'},\n",
       " {'CC16_330a',\n",
       "  'CC16_331_3',\n",
       "  'CC16_333a',\n",
       "  'CC16_333c',\n",
       "  'CC16_334b',\n",
       "  'CC16_334d',\n",
       "  'CC16_351G'},\n",
       " {'CC16_307',\n",
       "  'CC16_320b',\n",
       "  'CC16_330e',\n",
       "  'CC16_332a',\n",
       "  'CC16_332b',\n",
       "  'CC16_332f',\n",
       "  'CC16_351E'}]"
      ]
     },
     "execution_count": 4,
     "metadata": {},
     "output_type": "execute_result"
    }
   ],
   "source": [
    "folds"
   ]
  },
  {
   "cell_type": "code",
   "execution_count": 5,
   "metadata": {},
   "outputs": [],
   "source": [
    "folds_serializable = [sorted(list(fold)) for fold in folds]"
   ]
  },
  {
   "cell_type": "code",
   "execution_count": 6,
   "metadata": {},
   "outputs": [],
   "source": [
    "f = open(filepath + '/data/ec2/folds.json', 'w')\n",
    "f.write(json.dumps(folds_serializable))\n",
    "f.close()"
   ]
  }
 ],
 "metadata": {
  "kernelspec": {
   "display_name": "Python 3",
   "language": "python",
   "name": "python3"
  },
  "language_info": {
   "codemirror_mode": {
    "name": "ipython",
    "version": 3
   },
   "file_extension": ".py",
   "mimetype": "text/x-python",
   "name": "python",
   "nbconvert_exporter": "python",
   "pygments_lexer": "ipython3",
   "version": "3.6.5"
  }
 },
 "nbformat": 4,
 "nbformat_minor": 2
}
